{
 "cells": [
  {
   "cell_type": "markdown",
   "id": "7ee75980",
   "metadata": {
    "_cell_guid": "b1076dfc-b9ad-4769-8c92-a6c4dae69d19",
    "_uuid": "8f2839f25d086af736a60e9eeb907d3b93b6e0e5",
    "papermill": {
     "duration": 0.003797,
     "end_time": "2024-07-18T13:46:28.867070",
     "exception": false,
     "start_time": "2024-07-18T13:46:28.863273",
     "status": "completed"
    },
    "tags": []
   },
   "source": [
    "#Climbing building simulation and analysis \n",
    "\n",
    "\n",
    "##introduction\n",
    "This project analyses the chances of winning a game which is played using a dice to reach to the top of a building which involves climbing 60 steps."
   ]
  },
  {
   "cell_type": "code",
   "execution_count": 1,
   "id": "5e0104fd",
   "metadata": {
    "execution": {
     "iopub.execute_input": "2024-07-18T13:46:28.874563Z",
     "iopub.status.busy": "2024-07-18T13:46:28.874195Z",
     "iopub.status.idle": "2024-07-18T13:46:28.885454Z",
     "shell.execute_reply": "2024-07-18T13:46:28.884335Z"
    },
    "papermill": {
     "duration": 0.017963,
     "end_time": "2024-07-18T13:46:28.888020",
     "exception": false,
     "start_time": "2024-07-18T13:46:28.870057",
     "status": "completed"
    },
    "tags": []
   },
   "outputs": [],
   "source": [
    "import numpy as np\n",
    "import matplotlib.pyplot as plt\n",
    "\n",
    "# Set seed for reproducibility\n",
    "np.random.seed(123)"
   ]
  },
  {
   "cell_type": "code",
   "execution_count": 2,
   "id": "4bfd336c",
   "metadata": {
    "execution": {
     "iopub.execute_input": "2024-07-18T13:46:28.895464Z",
     "iopub.status.busy": "2024-07-18T13:46:28.894532Z",
     "iopub.status.idle": "2024-07-18T13:46:29.130139Z",
     "shell.execute_reply": "2024-07-18T13:46:29.129185Z"
    },
    "papermill": {
     "duration": 0.241965,
     "end_time": "2024-07-18T13:46:29.132687",
     "exception": false,
     "start_time": "2024-07-18T13:46:28.890722",
     "status": "completed"
    },
    "tags": []
   },
   "outputs": [],
   "source": [
    "# Simulate random walk 500 times\n",
    "all_climb = []\n",
    "\n",
    "for i in range(500):\n",
    "    random_climb = [0]\n",
    "    for x in range(100):\n",
    "        step = random_climb[-1]\n",
    "        dice = np.random.randint(1, 7)\n",
    "        if dice <= 2:\n",
    "            step = max(0, step - 1)\n",
    "        elif dice <= 5:\n",
    "            step = step + 1\n",
    "        else:\n",
    "            step = step + np.random.randint(1, 7)\n",
    "        if np.random.rand() <= 0.001:\n",
    "            step = 0\n",
    "        random_climb.append(step)\n",
    "    all_climb.append(random_climb)\n"
   ]
  },
  {
   "cell_type": "markdown",
   "id": "2543a882",
   "metadata": {
    "papermill": {
     "duration": 0.002447,
     "end_time": "2024-07-18T13:46:29.138413",
     "exception": false,
     "start_time": "2024-07-18T13:46:29.135966",
     "status": "completed"
    },
    "tags": []
   },
   "source": [
    "here, a dice is rolled ;\n",
    "*if it is 1 or 2 one step is decreased but it doesnt go less than zero meaning he wont step backwards after he reaches starting point.\n",
    "*if it is 3,4 or 5 one step is increased.\n",
    "*if it is a 6 then a random step between 1 and 6 occurs."
   ]
  },
  {
   "cell_type": "code",
   "execution_count": 3,
   "id": "44fbdea8",
   "metadata": {
    "execution": {
     "iopub.execute_input": "2024-07-18T13:46:29.145924Z",
     "iopub.status.busy": "2024-07-18T13:46:29.145526Z",
     "iopub.status.idle": "2024-07-18T13:46:29.154197Z",
     "shell.execute_reply": "2024-07-18T13:46:29.152936Z"
    },
    "papermill": {
     "duration": 0.015129,
     "end_time": "2024-07-18T13:46:29.156484",
     "exception": false,
     "start_time": "2024-07-18T13:46:29.141355",
     "status": "completed"
    },
    "tags": []
   },
   "outputs": [],
   "source": [
    "# Create and plot np_aw_t\n",
    "np_aw_t = np.transpose(np.array(all_climb))\n",
    "\n",
    "# Select last row from np_aw_t: ends\n",
    "ends = np_aw_t[-1, :]\n"
   ]
  },
  {
   "cell_type": "code",
   "execution_count": 4,
   "id": "8dc4a2b1",
   "metadata": {
    "execution": {
     "iopub.execute_input": "2024-07-18T13:46:29.163523Z",
     "iopub.status.busy": "2024-07-18T13:46:29.163174Z",
     "iopub.status.idle": "2024-07-18T13:46:29.435134Z",
     "shell.execute_reply": "2024-07-18T13:46:29.433900Z"
    },
    "papermill": {
     "duration": 0.278292,
     "end_time": "2024-07-18T13:46:29.437611",
     "exception": false,
     "start_time": "2024-07-18T13:46:29.159319",
     "status": "completed"
    },
    "tags": []
   },
   "outputs": [
    {
     "data": {
      "image/png": "[encoded data removed]",
      "text/plain": [
       "<Figure size 640x480 with 1 Axes>"
      ]
     },
     "metadata": {},
     "output_type": "display_data"
    }
   ],
   "source": [
    "# Plot histogram of ends, display plot\n",
    "plt.hist(ends, bins=10, edgecolor='black')\n",
    "plt.title('Distribution of climbing the building')\n",
    "plt.xlabel('End Point')\n",
    "plt.ylabel('Frequency')\n",
    "plt.show()\n"
   ]
  },
  {
   "cell_type": "code",
   "execution_count": 5,
   "id": "d271a618",
   "metadata": {
    "execution": {
     "iopub.execute_input": "2024-07-18T13:46:29.445437Z",
     "iopub.status.busy": "2024-07-18T13:46:29.445089Z",
     "iopub.status.idle": "2024-07-18T13:46:29.452461Z",
     "shell.execute_reply": "2024-07-18T13:46:29.451151Z"
    },
    "papermill": {
     "duration": 0.014279,
     "end_time": "2024-07-18T13:46:29.455015",
     "exception": false,
     "start_time": "2024-07-18T13:46:29.440736",
     "status": "completed"
    },
    "tags": []
   },
   "outputs": [
    {
     "name": "stdout",
     "output_type": "stream",
     "text": [
      "39200\n"
     ]
    }
   ],
   "source": [
    "win = sum(ends >= 60)*100\n",
    "print(win)"
   ]
  },
  {
   "cell_type": "markdown",
   "id": "71646b66",
   "metadata": {
    "papermill": {
     "duration": 0.003166,
     "end_time": "2024-07-18T13:46:29.461512",
     "exception": false,
     "start_time": "2024-07-18T13:46:29.458346",
     "status": "completed"
    },
    "tags": []
   },
   "source": [
    "## Analysis and Conclusion\n",
    "\n",
    "The histogram shows the distribution of end points for 500 random climbs of 100 steps each. Most of the end points cluster around the lower values, with fewer climbs reaching higher end points. This indicates that while a random climb can theoretically move indefinitely in one direction, in practice, the steps often cancel each other out, leading to a distribution centered around lower values.\n",
    "After the analysis we can see that the probability of winnig this particular game is 78.4%.\n"
   ]
  }
 ],
 "metadata": {
  "kaggle": {
   "accelerator": "none",
   "dataSources": [],
   "dockerImageVersionId": 30746,
   "isGpuEnabled": false,
   "isInternetEnabled": true,
   "language": "python",
   "sourceType": "notebook"
  },
  "kernelspec": {
   "display_name": "Python 3",
   "language": "python",
   "name": "python3"
  },
  "language_info": {
   "codemirror_mode": {
    "name": "ipython",
    "version": 3
   },
   "file_extension": ".py",
   "mimetype": "text/x-python",
   "name": "python",
   "nbconvert_exporter": "python",
   "pygments_lexer": "ipython3",
   "version": "3.10.13"
  },
  "papermill": {
   "default_parameters": {},
   "duration": 3.912776,
   "end_time": "2024-07-18T13:46:29.885927",
   "environment_variables": {},
   "exception": null,
   "input_path": "__notebook__.ipynb",
   "output_path": "__notebook__.ipynb",
   "parameters": {},
   "start_time": "2024-07-18T13:46:25.973151",
   "version": "2.5.0"
  }
 },
 "nbformat": 4,
 "nbformat_minor": 5
}
